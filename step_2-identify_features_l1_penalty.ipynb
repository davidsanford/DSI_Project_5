{
 "cells": [
  {
   "cell_type": "markdown",
   "metadata": {},
   "source": [
    "# Step 2 - Identify Salient Features Using $\\ell1$-penalty"
   ]
  },
  {
   "cell_type": "markdown",
   "metadata": {},
   "source": [
    "### Domain and Data\n",
    "\n",
    "Here I am working with the Madelon data set, a synthetic data set with many variables and a high degree of non-linearity.  From the previous step, benchmark accuracy is 53.6%.  My goal is to use a Lasso regression to determine a reasonable number of salient features to use for the ultimate model, based on the cross-validation accuracy on the training set with various weight parameters."
   ]
  },
  {
   "cell_type": "markdown",
   "metadata": {},
   "source": [
    "### Problem Statement\n",
    "\n",
    "I wish to reduce the number of features in the Madelon data set to better encapsulate the variation in the data set.  I wish to use a Lasso regression to select salient features for an ultimate regression.  The goal is to produce a relevant number of features, which can then be input into a 'SelectKBest' transformation in the full model.  "
   ]
  },
  {
   "cell_type": "markdown",
   "metadata": {},
   "source": [
    "### Solution Statement\n",
    "\n",
    "Here I use the same pipeline as in step 1, except that the logistic regression uses L1 regularization with a range of values for the regression weight.  I print the table of number of non-zero results and metrics for each weight, as well as plotting the regression weight against the model accuracy."
   ]
  },
  {
   "cell_type": "code",
   "execution_count": 1,
   "metadata": {
    "collapsed": false
   },
   "outputs": [],
   "source": [
    "from lib.project_5 import load_data_from_database, make_data_dict, general_model, general_transformer\n",
    "from sklearn.preprocessing import StandardScaler\n",
    "from sklearn.linear_model.logistic import LogisticRegression\n",
    "\n",
    "data = load_data_from_database(local = True)\n",
    "data_dict = make_data_dict(data, rand_seed = 742)\n",
    "data_dict = general_transformer(StandardScaler(), data_dict)\n",
    "l1_weights = [1,0.5,0.2,0.1,0.05,0.04,0.03,0.02,0.01]\n",
    "for C in l1_weights:\n",
    "    lasso_logistic = LogisticRegression(penalty='l1',solver='liblinear',fit_intercept=True,C=C)\n",
    "    data_dict = general_model(data_dict, lasso_logistic)"
   ]
  },
  {
   "cell_type": "code",
   "execution_count": 2,
   "metadata": {
    "collapsed": false
   },
   "outputs": [
    {
     "data": {
      "text/html": [
       "<div>\n",
       "<table border=\"1\" class=\"dataframe\">\n",
       "  <thead>\n",
       "    <tr style=\"text-align: right;\">\n",
       "      <th></th>\n",
       "      <th>C</th>\n",
       "      <th>nonzero coefficients</th>\n",
       "      <th>accuracy</th>\n",
       "      <th>roc_auc</th>\n",
       "      <th>precision</th>\n",
       "      <th>recall</th>\n",
       "      <th>f1</th>\n",
       "    </tr>\n",
       "  </thead>\n",
       "  <tbody>\n",
       "    <tr>\n",
       "      <th>0</th>\n",
       "      <td>1.00</td>\n",
       "      <td>467</td>\n",
       "      <td>0.539230</td>\n",
       "      <td>0.541726</td>\n",
       "      <td>0.540085</td>\n",
       "      <td>0.546338</td>\n",
       "      <td>0.542917</td>\n",
       "    </tr>\n",
       "    <tr>\n",
       "      <th>1</th>\n",
       "      <td>0.50</td>\n",
       "      <td>442</td>\n",
       "      <td>0.535658</td>\n",
       "      <td>0.546431</td>\n",
       "      <td>0.537004</td>\n",
       "      <td>0.540624</td>\n",
       "      <td>0.538426</td>\n",
       "    </tr>\n",
       "    <tr>\n",
       "      <th>2</th>\n",
       "      <td>0.20</td>\n",
       "      <td>361</td>\n",
       "      <td>0.545679</td>\n",
       "      <td>0.558965</td>\n",
       "      <td>0.545483</td>\n",
       "      <td>0.559175</td>\n",
       "      <td>0.552031</td>\n",
       "    </tr>\n",
       "    <tr>\n",
       "      <th>3</th>\n",
       "      <td>0.10</td>\n",
       "      <td>265</td>\n",
       "      <td>0.559965</td>\n",
       "      <td>0.576252</td>\n",
       "      <td>0.560544</td>\n",
       "      <td>0.566338</td>\n",
       "      <td>0.563158</td>\n",
       "    </tr>\n",
       "    <tr>\n",
       "      <th>4</th>\n",
       "      <td>0.05</td>\n",
       "      <td>117</td>\n",
       "      <td>0.581378</td>\n",
       "      <td>0.611554</td>\n",
       "      <td>0.585887</td>\n",
       "      <td>0.569155</td>\n",
       "      <td>0.576345</td>\n",
       "    </tr>\n",
       "    <tr>\n",
       "      <th>5</th>\n",
       "      <td>0.04</td>\n",
       "      <td>81</td>\n",
       "      <td>0.589991</td>\n",
       "      <td>0.626109</td>\n",
       "      <td>0.593270</td>\n",
       "      <td>0.579155</td>\n",
       "      <td>0.584670</td>\n",
       "    </tr>\n",
       "    <tr>\n",
       "      <th>6</th>\n",
       "      <td>0.03</td>\n",
       "      <td>30</td>\n",
       "      <td>0.612838</td>\n",
       "      <td>0.638173</td>\n",
       "      <td>0.616319</td>\n",
       "      <td>0.604748</td>\n",
       "      <td>0.608653</td>\n",
       "    </tr>\n",
       "    <tr>\n",
       "      <th>7</th>\n",
       "      <td>0.02</td>\n",
       "      <td>8</td>\n",
       "      <td>0.617858</td>\n",
       "      <td>0.630936</td>\n",
       "      <td>0.622175</td>\n",
       "      <td>0.604789</td>\n",
       "      <td>0.611944</td>\n",
       "    </tr>\n",
       "    <tr>\n",
       "      <th>8</th>\n",
       "      <td>0.01</td>\n",
       "      <td>2</td>\n",
       "      <td>0.618573</td>\n",
       "      <td>0.625641</td>\n",
       "      <td>0.621832</td>\n",
       "      <td>0.609054</td>\n",
       "      <td>0.613756</td>\n",
       "    </tr>\n",
       "  </tbody>\n",
       "</table>\n",
       "</div>"
      ],
      "text/plain": [
       "      C  nonzero coefficients  accuracy   roc_auc  precision    recall  \\\n",
       "0  1.00                   467  0.539230  0.541726   0.540085  0.546338   \n",
       "1  0.50                   442  0.535658  0.546431   0.537004  0.540624   \n",
       "2  0.20                   361  0.545679  0.558965   0.545483  0.559175   \n",
       "3  0.10                   265  0.559965  0.576252   0.560544  0.566338   \n",
       "4  0.05                   117  0.581378  0.611554   0.585887  0.569155   \n",
       "5  0.04                    81  0.589991  0.626109   0.593270  0.579155   \n",
       "6  0.03                    30  0.612838  0.638173   0.616319  0.604748   \n",
       "7  0.02                     8  0.617858  0.630936   0.622175  0.604789   \n",
       "8  0.01                     2  0.618573  0.625641   0.621832  0.609054   \n",
       "\n",
       "         f1  \n",
       "0  0.542917  \n",
       "1  0.538426  \n",
       "2  0.552031  \n",
       "3  0.563158  \n",
       "4  0.576345  \n",
       "5  0.584670  \n",
       "6  0.608653  \n",
       "7  0.611944  \n",
       "8  0.613756  "
      ]
     },
     "execution_count": 2,
     "metadata": {},
     "output_type": "execute_result"
    }
   ],
   "source": [
    "import pandas as pd\n",
    "\n",
    "metrics_by_weight = pd.DataFrame([{data_dict['metrics'][i].iloc[j,0]:data_dict['metrics'][i].iloc[j,1] \n",
    "                                   for j in range(5)}\n",
    "                                  for i in range(len(data_dict['metrics']))])\n",
    "metrics_by_weight['C'] = pd.Series([data_dict['models'][i].C for i in range(len(data_dict['models']))])\n",
    "metrics_by_weight['nonzero coefficients'] = \\\n",
    "    pd.Series([data_dict['models'][i].coef_[data_dict['models'][i].coef_ != 0].shape[0]\n",
    "               for i in range(len(data_dict['models']))])\n",
    "metrics_by_weight = metrics_by_weight[[\"C\",\"nonzero coefficients\",\"accuracy\",\"roc_auc\",\"precision\",\"recall\",\"f1\"]]\n",
    "metrics_by_weight"
   ]
  },
  {
   "cell_type": "code",
   "execution_count": 3,
   "metadata": {
    "collapsed": false
   },
   "outputs": [
    {
     "data": {
      "text/plain": [
       "<matplotlib.axes._subplots.AxesSubplot at 0x11664c450>"
      ]
     },
     "execution_count": 3,
     "metadata": {},
     "output_type": "execute_result"
    },
    {
     "data": {
      "image/png": "[encoded data removed]",
      "text/plain": [
       "<matplotlib.figure.Figure at 0x11662fb90>"
      ]
     },
     "metadata": {},
     "output_type": "display_data"
    }
   ],
   "source": [
    "import matplotlib.pyplot as plt\n",
    "import seaborn as sns\n",
    "%matplotlib inline\n",
    "\n",
    "metrics_by_weight.plot('nonzero coefficients','accuracy',logx=True)"
   ]
  },
  {
   "cell_type": "markdown",
   "metadata": {},
   "source": [
    "### Metric\n",
    "\n",
    "As discussed in step 1, I consider accuracy as the most natural metric to use in this problem.  However, all the scores improve with a decreasing number of features and indicate the same general region for best model score, so which one is used should not substantially change the results.  "
   ]
  },
  {
   "cell_type": "markdown",
   "metadata": {},
   "source": [
    "### Benchmark\n",
    "\n",
    "The model accuracy improves as the regression weight 1/C increases and the number of coefficients decreases.  The raw accuracy score was 53.6% for the unregularized model, and becomes around 61.8% for the best of the regularized models.  The other metrics improve as well.  The improvement is most substantial for the initial drop in number of features from 500 to around 30, then more modest with a further reduction in the number of features.  As such, I will use three values for the 'SelectKBest' algorithm in step 3:\n",
    "\n",
    "kBest = [2, 8, 30]"
   ]
  },
  {
   "cell_type": "markdown",
   "metadata": {},
   "source": [
    "## Implementation\n",
    "\n",
    "Implement the following code pipeline using the functions you write in `lib/project_5.py`."
   ]
  },
  {
   "cell_type": "markdown",
   "metadata": {},
   "source": [
    "<img src=\"assets/identify_features.png\" width=\"600px\">"
   ]
  }
 ],
 "metadata": {
  "anaconda-cloud": {},
  "kernelspec": {
   "display_name": "Python [default]",
   "language": "python",
   "name": "python2"
  },
  "language_info": {
   "codemirror_mode": {
    "name": "ipython",
    "version": 2
   },
   "file_extension": ".py",
   "mimetype": "text/x-python",
   "name": "python",
   "nbconvert_exporter": "python",
   "pygments_lexer": "ipython2",
   "version": "2.7.12"
  }
 },
 "nbformat": 4,
 "nbformat_minor": 1
}
